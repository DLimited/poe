{
 "cells": [
  {
   "cell_type": "markdown",
   "metadata": {},
   "source": [
    "# PoE Harvest Simulation\n",
    "This notebook simulates harvest plots. The goal is to determine the breakpoint where Crop Rotation is (on average) better non-Crop-Rotation harvest.\n",
    "\n",
    "Baseline chances have taken from https://forgottenarbiter.github.io/Poe-Harvest-Mechanics/ - both for regular harvest and for crop rotation.\n",
    "\n",
    "The most interesting part is that the T3 harvest mob chance follows a binomial distribution with p=0.25, which can then be increased through through idols or the atlas passive tree. And that Crop Rotation upgrade chance seems to scale with map tier, which could be especially interesting for T17 harvest farming.\n",
    "\n"
   ]
  },
  {
   "cell_type": "code",
   "execution_count": 1,
   "metadata": {},
   "outputs": [],
   "source": [
    "import random\n",
    "import numpy as np\n",
    "\n",
    "\n",
    "np.set_printoptions(suppress=True)\n",
    "sample_amount = 1_000_000"
   ]
  },
  {
   "cell_type": "code",
   "execution_count": 2,
   "metadata": {},
   "outputs": [
    {
     "name": "stdout",
     "output_type": "stream",
     "text": [
      "1.141434\n",
      "1.408386\n"
     ]
    }
   ],
   "source": [
    "\n",
    "def sample(n, p):\n",
    "\n",
    "    s1 = random.binomialvariate(n, p)\n",
    "    s2 = random.binomialvariate(n, p)\n",
    "\n",
    "    return max(s1, s2)\n",
    "\n",
    "\n",
    "print(np.mean([sample(3, 0.25) for i in range(sample_amount)]))\n",
    "print(np.mean([sample(3, 0.25*1.3) for i in range(sample_amount)]))"
   ]
  },
  {
   "cell_type": "markdown",
   "metadata": {},
   "source": [
    "The above shows that the average T3 per pair of plots (of which you can only take one because the other one wilts) is 1.14 T3 mobs for T16 harvest without atlas tree investment, and 1.4 T3 mobs if you do specced into it."
   ]
  },
  {
   "cell_type": "code",
   "execution_count": 3,
   "metadata": {},
   "outputs": [
    {
     "name": "stdout",
     "output_type": "stream",
     "text": [
      "[[23.        0.        0.        0.      ]\n",
      " [17.250176  5.749824  0.        0.      ]\n",
      " [12.938635  8.912266  1.149099  0.      ]\n",
      " [ 9.702046 10.368255  2.872332  0.057367]\n",
      " [ 7.274691 10.722638  4.801632  0.201039]\n",
      " [ 5.457264 10.395335  6.706354  0.441047]\n",
      " [ 4.092606  9.68018   8.451636  0.775578]\n",
      " [ 3.069959  8.766407  9.965851  1.197783]\n",
      " [ 2.302701  7.779758 11.222836  1.694705]\n",
      " [ 1.727466  6.798853 12.219247  2.254434]]\n"
     ]
    }
   ],
   "source": [
    "def sample_crop_rotation(population = [23, 0, 0, 0], chances = [0.25, 0.2, 0.05, 0], plots=9):\n",
    "\n",
    "    def upgrade(pop, chances):\n",
    "        \n",
    "        upgraded = []\n",
    "        for i, n in enumerate(pop):\n",
    "            #if i == len(pop)-1:\n",
    "            #    continue\n",
    "            #result[i] = pop[i]\n",
    "            count = 0\n",
    "            for _ in range(n):\n",
    "                if random.uniform(0,1)<chances[i]:\n",
    "                    count += 1\n",
    "            upgraded.append(count)\n",
    "        \n",
    "        result = []\n",
    "        for i, n in enumerate(pop):\n",
    "            if i == 0:\n",
    "                result.append(pop[i]-upgraded[i])\n",
    "                continue\n",
    "            if i == len(pop)-1:\n",
    "                result.append(pop[i]+upgraded[i-1])\n",
    "                continue\n",
    "            result.append(pop[i]-upgraded[i]+upgraded[i-1])\n",
    "\n",
    "        return result\n",
    "\n",
    "    #chances = [0.25, 0.2, 0.05, 0]\n",
    "\n",
    "    #population = [23, 0, 0, 0]\n",
    "\n",
    "    res = [population]\n",
    "    for i in range(plots):\n",
    "        res.append(upgrade(res[-1], chances))\n",
    "\n",
    "    return res\n",
    "\n",
    "total = np.array(sample_crop_rotation())\n",
    "\n",
    "for _ in range(sample_amount-1):\n",
    "    total = np.add(total, np.array(sample_crop_rotation()))\n",
    "\n",
    "means = np.divide(total, sample_amount)\n",
    "print(means)"
   ]
  },
  {
   "cell_type": "markdown",
   "metadata": {},
   "source": [
    "The above estimates the distribution of T1, T2, T3, T4 mobs after each upgrade step, based on T16 harvest data. \n",
    "Interestingly, after only 2 upgrade steps the following plots have at least as many T3 mobs as regular non-specced harvest has per plot pair.\n",
    "After 5 upgrade steps, the next plot alone has almost as many T3 mobs as a non-crop-rotation but specced harvest has with its maximum amount of 5 plots in total (6.7 vs 7 respectively)."
   ]
  },
  {
   "cell_type": "code",
   "execution_count": null,
   "metadata": {},
   "outputs": [
    {
     "name": "stdout",
     "output_type": "stream",
     "text": [
      "[53.188811 14.66209   1.149099  0.      ]\n",
      "[66.127446 23.574356  2.298198  0.      ]\n",
      "[67.202398 21.867903  2.872332  0.057367]\n",
      "[79.151961 28.54717   7.09983   0.201039]\n",
      "[88.404092 20.73651   5.744664  0.114734]\n"
     ]
    }
   ],
   "source": [
    "def cumul(indices, \n",
    "          distribution=[[23.,        0.,        0.,        0.      ],\n",
    "                        [17.250176,  5.749824,  0.,        0.      ],\n",
    "                        [12.938635,  8.912266,  1.149099,  0.      ],\n",
    "                        [ 9.702046, 10.368255,  2.872332,  0.057367],\n",
    "                        [ 7.274691, 10.722638,  4.801632,  0.201039],\n",
    "                        [ 5.457264, 10.395335,  6.706354,  0.441047],\n",
    "                        [ 4.092606,  9.68018,   8.451636,  0.775578],\n",
    "                        [ 3.069959,  8.766407,  9.965851,  1.197783],\n",
    "                        [ 2.302701,  7.779758, 11.222836,  1.694705],\n",
    "                        [ 1.727466,  6.798853, 12.219247,  2.254434]],\n",
    "            ):\n",
    "    \n",
    "    \n",
    "    out = np.zeros(4)\n",
    "    for i in indices:\n",
    "        out += distribution[i]\n",
    "    return out\n",
    "\n",
    "indices = [0, 1, 2]\n",
    "print(cumul(indices))\n",
    "\n",
    "indices = [0, 1, 2, 2]\n",
    "print(cumul(indices))\n",
    "\n",
    "indices = [0, 1, 1, 3]\n",
    "print(cumul(indices))\n",
    "\n",
    "indices = [0, 0, 2, 2]\n",
    "print(cumul(indices))\n",
    "\n",
    "indices = [0, 0, 2, 2, 4]\n",
    "print(cumul(indices))\n",
    "\n",
    "indices = [0, 0, 0, 3, 3]\n",
    "print(cumul(indices))\n",
    "\n"
   ]
  },
  {
   "cell_type": "markdown",
   "metadata": {},
   "source": [
    "The cumulative "
   ]
  }
 ],
 "metadata": {
  "kernelspec": {
   "display_name": "Python 3",
   "language": "python",
   "name": "python3"
  },
  "language_info": {
   "codemirror_mode": {
    "name": "ipython",
    "version": 3
   },
   "file_extension": ".py",
   "mimetype": "text/x-python",
   "name": "python",
   "nbconvert_exporter": "python",
   "pygments_lexer": "ipython3",
   "version": "3.12.4"
  }
 },
 "nbformat": 4,
 "nbformat_minor": 2
}
